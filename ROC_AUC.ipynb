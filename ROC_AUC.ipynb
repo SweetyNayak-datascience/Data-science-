{
  "nbformat": 4,
  "nbformat_minor": 0,
  "metadata": {
    "colab": {
      "private_outputs": true,
      "provenance": [],
      "authorship_tag": "ABX9TyPsim5n15ZC1in3dHc+HS7a",
      "include_colab_link": true
    },
    "kernelspec": {
      "name": "python3",
      "display_name": "Python 3"
    },
    "language_info": {
      "name": "python"
    }
  },
  "cells": [
    {
      "cell_type": "markdown",
      "metadata": {
        "id": "view-in-github",
        "colab_type": "text"
      },
      "source": [
        "<a href=\"https://colab.research.google.com/github/SweetyNayak-datascience/Data-science-/blob/main/ROC_AUC.ipynb\" target=\"_parent\"><img src=\"https://colab.research.google.com/assets/colab-badge.svg\" alt=\"Open In Colab\"/></a>"
      ]
    },
    {
      "cell_type": "code",
      "execution_count": null,
      "metadata": {
        "id": "GFqZI3L5Cf89"
      },
      "outputs": [],
      "source": [
        "from sklearn.model_selection import train_test_split\n",
        "from sklearn.datasets import make_classification\n",
        "from sklearn.linear_model import LogisticRegression\n",
        "from sklearn.metrics import roc_auc_score,accuracy_score,precision_score,recall_score,f1_score,confusion_matrix,roc_curve"
      ]
    },
    {
      "cell_type": "code",
      "source": [
        "X, y = make_classification(n_samples=1000,n_features=20,n_classes=2,random_state=42)"
      ],
      "metadata": {
        "id": "YP-RLKo_DRL4"
      },
      "execution_count": null,
      "outputs": []
    },
    {
      "cell_type": "code",
      "source": [
        "from os import X_OK\n",
        "x_train,x_test,y_train,y_test = train_test_split(X,y,test_size=0.3,random_state=0)"
      ],
      "metadata": {
        "id": "b_s8TdFpDdnk"
      },
      "execution_count": null,
      "outputs": []
    },
    {
      "cell_type": "code",
      "source": [
        "model = LogisticRegression()\n",
        "model.fit(x_train,y_train)"
      ],
      "metadata": {
        "id": "heb-a9JtEfY6"
      },
      "execution_count": null,
      "outputs": []
    },
    {
      "cell_type": "code",
      "source": [
        "y_probs = model.predict_proba(x_test)[:,1]\n",
        "\n",
        "y_pred = model.predict(x_test)\n"
      ],
      "metadata": {
        "id": "MLX_nKN6FYMO"
      },
      "execution_count": null,
      "outputs": []
    },
    {
      "cell_type": "code",
      "source": [
        "#calculation of\n",
        "roc_auc = roc_auc_score(y_test,y_probs)\n",
        "\n",
        "#calculation other metrics\n",
        "accuracy_score = accuracy_score(y_test,y_pred)\n",
        "precision_score = precision_score(y_test,y_pred)\n",
        "recall_score = recall_score(y_test,y_pred)\n",
        "f1 = f1_score(y_test,y_pred)\n",
        "\n",
        "print(\"ROC AUC Score:\",roc_auc)\n",
        "print(\"Accuracy Score:\",accuracy_score)\n",
        "print(\"Precision Score:\",precision_score)\n",
        "print(\"Recall Score:\",recall_score)\n",
        "print(f\"F1 Score:{f1:.2f}\")\n"
      ],
      "metadata": {
        "id": "4CEIgD6nGurM"
      },
      "execution_count": null,
      "outputs": []
    },
    {
      "cell_type": "code",
      "source": [
        "from sklearn.metrics import auc\n",
        "import matplotlib.pyplot as plt\n",
        "\n",
        "fpr,tpr,thresholds = roc_curve(y_test,y_probs)\n",
        "roc_auc =auc(fpr,tpr)\n",
        "\n",
        "plt.figure()\n",
        "plt.plot(fpr,tpr,label=\"ROC Curve(AUC = %0.2f)\"% roc_auc)\n",
        "plt.plot([0,1],[0,1],'r--')\n",
        "plt.xlim([0.0,1.0])\n",
        "plt.ylim([0.0,1.05])\n",
        "plt.xlabel('False Positive Rate')\n",
        "plt.ylabel('True Positive Rate')\n",
        "plt.title('Receiver Operating Characteristic')\n",
        "plt.legend(loc=\"lower right\")\n",
        "plt.show()"
      ],
      "metadata": {
        "id": "4dJKYsFdINXF"
      },
      "execution_count": null,
      "outputs": []
    },
    {
      "cell_type": "code",
      "source": [],
      "metadata": {
        "id": "CLlh4J7VINex"
      },
      "execution_count": null,
      "outputs": []
    }
  ]
}