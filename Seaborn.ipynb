{
  "nbformat": 4,
  "nbformat_minor": 0,
  "metadata": {
    "colab": {
      "private_outputs": true,
      "provenance": [],
      "cell_execution_strategy": "setup",
      "authorship_tag": "ABX9TyOcnl4jpj9OUzm4jILxwWn3",
      "include_colab_link": true
    },
    "kernelspec": {
      "name": "python3",
      "display_name": "Python 3"
    },
    "language_info": {
      "name": "python"
    }
  },
  "cells": [
    {
      "cell_type": "markdown",
      "metadata": {
        "id": "view-in-github",
        "colab_type": "text"
      },
      "source": [
        "<a href=\"https://colab.research.google.com/github/SweetyNayak-datascience/Data-science-/blob/main/Seaborn.ipynb\" target=\"_parent\"><img src=\"https://colab.research.google.com/assets/colab-badge.svg\" alt=\"Open In Colab\"/></a>"
      ]
    },
    {
      "cell_type": "code",
      "execution_count": null,
      "metadata": {
        "id": "3WY0enBO0139"
      },
      "outputs": [],
      "source": [
        "import numpy as np\n",
        "import pandas as pd\n",
        "import matplotlib.pyplot as plt\n",
        "from sklearn.model_selection import train_test_split\n",
        "from sklearn.linear_model import LogisticRegression\n",
        "from sklearn.metrics import accuracy_score\n",
        "from sklearn.metrics import precision_score\n",
        "from sklearn.metrics import recall_score\n",
        "from sklearn.metrics import f1_score\n",
        "from sklearn.metrics import confusion_matrix\n",
        "from sklearn.metrics import classification_report\n",
        "import seaborn as sns\n",
        "%matplotlib inline"
      ]
    },
    {
      "cell_type": "code",
      "source": [
        "df =pd.read_csv(\"/content/mtcars.csv\")\n",
        "print(df)"
      ],
      "metadata": {
        "id": "aXGyr5qX0_1W"
      },
      "execution_count": null,
      "outputs": []
    },
    {
      "cell_type": "code",
      "source": [
        "df.head()"
      ],
      "metadata": {
        "id": "Utl9_i_Q1KX6"
      },
      "execution_count": null,
      "outputs": []
    },
    {
      "cell_type": "code",
      "source": [
        "df.info()"
      ],
      "metadata": {
        "id": "uXhelF0k1MNF"
      },
      "execution_count": null,
      "outputs": []
    },
    {
      "cell_type": "code",
      "source": [
        "res = sns.barplot(x = df('cyl'), y = df('carb'),palette='rocket')\n",
        "plt.show()\n"
      ],
      "metadata": {
        "id": "b7z2PR8D1isJ"
      },
      "execution_count": null,
      "outputs": []
    },
    {
      "cell_type": "code",
      "source": [
        "sns.countplot(x= 'cyl', data=df, palette='Set1')"
      ],
      "metadata": {
        "id": "KcOQnC6011W3"
      },
      "execution_count": null,
      "outputs": []
    },
    {
      "cell_type": "code",
      "source": [
        "sns.countplot(x= 'carb', data=df, palette='Set1')"
      ],
      "metadata": {
        "id": "JtGA-jsM5-6b"
      },
      "execution_count": null,
      "outputs": []
    },
    {
      "cell_type": "code",
      "source": [
        "sns.countplot(y= 'carb', data=df, palette='Set1')"
      ],
      "metadata": {
        "id": "4NQg88Nh6fQt"
      },
      "execution_count": null,
      "outputs": []
    },
    {
      "cell_type": "code",
      "source": [
        "sns.countplot(y= 'gear', data=df, palette='Set1')"
      ],
      "metadata": {
        "id": "0gtvksJH68z2"
      },
      "execution_count": null,
      "outputs": []
    },
    {
      "cell_type": "code",
      "source": [
        "sns.countplot(x = 'gear',hue ='cyl', data=df, palette='Set1')"
      ],
      "metadata": {
        "id": "XCKeNWId7k3Y"
      },
      "execution_count": null,
      "outputs": []
    },
    {
      "cell_type": "code",
      "source": [
        "import  plotly.express as plt\n",
        "fig = plt.pie(df, values='carb', names='cyl', color_discrete_map={'3':'black','4':'pink'})\n",
        "fig.show()\n"
      ],
      "metadata": {
        "id": "7KoNu13Q-4YT"
      },
      "execution_count": null,
      "outputs": []
    },
    {
      "cell_type": "code",
      "source": [
        "sns.countplot(x= 'carb', data=df, palette='Set1')\n",
        "plt.figure(figsize=(8,6))\n",
        "plt.pie(df['carb'], autopct='%1.1f%%', startangle=140)\n",
        "plt.axis('equal')\n",
        "plt.show()"
      ],
      "metadata": {
        "id": "9tphz_lR8G7u"
      },
      "execution_count": null,
      "outputs": []
    },
    {
      "cell_type": "code",
      "source": [
        "iris = sns.load_dataset('iris')\n",
        "iris.head()"
      ],
      "metadata": {
        "id": "_vvSWy-uBHwa"
      },
      "execution_count": null,
      "outputs": []
    },
    {
      "cell_type": "code",
      "source": [
        "sns.scatterplot(x='sepal_length', y='sepal_width', hue='species', data=iris)"
      ],
      "metadata": {
        "id": "vV-a8xGPBPaq"
      },
      "execution_count": null,
      "outputs": []
    },
    {
      "cell_type": "code",
      "source": [
        "sns.pairplot(iris, hue='species', palette='Set1')"
      ],
      "metadata": {
        "id": "zdaAZQiPD1HG"
      },
      "execution_count": null,
      "outputs": []
    },
    {
      "cell_type": "code",
      "source": [
        "import numpy as np\n",
        "import matplotlib.pyplot as plt\n",
        "from ipywidgets import interact, widgets\n",
        "\n",
        "iris = sns.load_dataset('iris')\n",
        "iris.head()\n",
        "\n",
        "#create an interactive scatter plot\n",
        "def plot_scatter(x_axis, y_axis, hue_by):\n",
        "    sns.scatterplot(x=x_axis, y=y_axis, hue=hue_by, data=iris)\n",
        "    plt.show()\n",
        "\n",
        "interact(plot_scatter,\n",
        "         x_axis=widgets.Dropdown(options=iris.columns, value='sepal_length'),\n",
        "         y_axis=widgets.Dropdown(options=iris.columns, value='sepal_width'),\n",
        "         hue_by=widgets.Dropdown(options=['species'] + [None], value='species') );"
      ],
      "metadata": {
        "id": "TJinz2lyHMP6"
      },
      "execution_count": null,
      "outputs": []
    },
    {
      "cell_type": "code",
      "source": [
        "df.head()\n"
      ],
      "metadata": {
        "id": "ArlaHtjQKLWg"
      },
      "execution_count": null,
      "outputs": []
    }
  ]
}